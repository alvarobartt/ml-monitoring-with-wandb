{
 "cells": [
  {
   "cell_type": "code",
   "execution_count": 1,
   "metadata": {},
   "outputs": [],
   "source": [
    "from torchvision import transforms as T\n",
    "\n",
    "class SimpsonsTransforms(T.Compose):\n",
    "    def __init__(self, phase):\n",
    "        self.phase = phase\n",
    "        self.transforms = {\n",
    "            'train': [\n",
    "                T.Resize((32, 32)),\n",
    "                T.RandomHorizontalFlip(),\n",
    "                T.ToTensor(),\n",
    "                T.Normalize(\n",
    "                    mean=[0.485, 0.456, 0.406],\n",
    "                    std=[0.229, 0.224, 0.225]\n",
    "                )\n",
    "            ],\n",
    "            'val': [\n",
    "                T.Resize((32, 32)),\n",
    "                T.ToTensor(),\n",
    "                T.Normalize(\n",
    "                    mean=[0.485, 0.456, 0.406],\n",
    "                    std=[0.229, 0.224, 0.225]\n",
    "                )\n",
    "            ],\n",
    "            'test': [\n",
    "                T.Resize((32, 32)),\n",
    "                T.ToTensor(),\n",
    "                T.Normalize(\n",
    "                    mean=[0.485, 0.456, 0.406],\n",
    "                    std=[0.229, 0.224, 0.225]\n",
    "                )\n",
    "            ]\n",
    "        }\n",
    "        \n",
    "        super().__init__(self.transforms[self.phase])"
   ]
  },
  {
   "cell_type": "code",
   "execution_count": 2,
   "metadata": {},
   "outputs": [],
   "source": [
    "from torchvision.datasets import ImageFolder\n",
    "\n",
    "class SimpsonsImageFolder(ImageFolder):\n",
    "    def __init__(self, phase):\n",
    "        super().__init__()\n",
    "        self.root = f\"{root}/{phase}\"\n",
    "        self.phase = phase\n",
    "        self.transform = SimpsonsTransforms(phase=phase)"
   ]
  },
  {
   "cell_type": "code",
   "execution_count": 3,
   "metadata": {},
   "outputs": [],
   "source": [
    "from torch.utils.data import DataLoader\n",
    "from pytorch_lightning import LightningDataModule\n",
    "\n",
    "class SimpsonsDataModule(LightningDataModule):\n",
    "    def __init__(self, dataset_path, batch_size):\n",
    "        super().__init__()\n",
    "        self.dataset_path = dataset_path\n",
    "        self.batch_size = batch_size\n",
    "    \n",
    "    def train_dataloader(self):\n",
    "        self.train_imagefolder = SimpsonsImageFolder(root=self.dataset_path, \n",
    "                                                     phase='train')\n",
    "        return DataLoader(dataset=self.train_imagefolder,\n",
    "                          batch_size=self.batch_size, \n",
    "                          num_workers=12, shuffle=True)\n",
    "    \n",
    "    def val_dataloader(self):\n",
    "        self.val_imagefolder = SimpsonsImageFolder(root=self.dataset_path,\n",
    "                                                   phase='val')\n",
    "        return DataLoader(dataset=self.val_imagefolder,\n",
    "                          batch_size=self.batch_size, \n",
    "                          num_workers=12)\n",
    "    \n",
    "    def test_dataloader(self):\n",
    "        self.test_imagefolder = SimpsonsImageFolder(root=self.dataset_path,\n",
    "                                                    phase='test')\n",
    "        return DataLoader(dataset=self.test_imagefolder,\n",
    "                          batch_size=self.batch_size,\n",
    "                          num_workers=12)"
   ]
  }
 ],
 "metadata": {
  "kernelspec": {
   "display_name": "Python 3",
   "language": "python",
   "name": "python3"
  },
  "language_info": {
   "codemirror_mode": {
    "name": "ipython",
    "version": 3
   },
   "file_extension": ".py",
   "mimetype": "text/x-python",
   "name": "python",
   "nbconvert_exporter": "python",
   "pygments_lexer": "ipython3",
   "version": "3.8.5"
  }
 },
 "nbformat": 4,
 "nbformat_minor": 4
}
